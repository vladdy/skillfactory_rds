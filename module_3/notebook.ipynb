{
 "cells": [
  {
   "cell_type": "code",
   "execution_count": 34,
   "metadata": {},
   "outputs": [],
   "source": [
    "import pandas as pd\n",
    "import numpy as np\n",
    "import scipy\n",
    "\n",
    "from sklearn.model_selection import train_test_split\n",
    "from sklearn.ensemble import RandomForestRegressor \n",
    "from sklearn import metrics\n",
    "\n",
    "import matplotlib.pyplot as plt\n",
    "import seaborn as sns \n",
    "%matplotlib inline"
   ]
  },
  {
   "cell_type": "markdown",
   "metadata": {},
   "source": [
    "# Data loading and pre-processing"
   ]
  },
  {
   "cell_type": "code",
   "execution_count": 2,
   "metadata": {},
   "outputs": [],
   "source": [
    "main_df = pd.read_csv('main_task.csv')\n",
    "y = main_df['Rating']\n",
    "main_df = main_df.drop(['Rating'], axis=1)\n",
    "main_df['purpose'] = 0\n",
    "kaggle_df = pd.read_csv('kaggle_task.csv')\n",
    "kaggle_df['purpose'] = 1\n",
    "combined_df = pd.concat([main_df, kaggle_df])"
   ]
  },
  {
   "cell_type": "markdown",
   "metadata": {},
   "source": [
    "## City"
   ]
  },
  {
   "cell_type": "code",
   "execution_count": 3,
   "metadata": {},
   "outputs": [
    {
     "name": "stdout",
     "output_type": "stream",
     "text": [
      "NAs #:  0\n"
     ]
    }
   ],
   "source": [
    "# Checking city\n",
    "print(\"NAs #: \", combined_df.City.isna().sum())\n",
    "\n",
    "city_dummies = pd.get_dummies(combined_df['City'])\n",
    "combined_df = pd.concat([combined_df, city_dummies], axis=1)"
   ]
  },
  {
   "cell_type": "markdown",
   "metadata": {},
   "source": [
    "## Additional feature - weighted rating"
   ]
  },
  {
   "cell_type": "code",
   "execution_count": 71,
   "metadata": {},
   "outputs": [
    {
     "data": {
      "image/png": "[encoded data removed]",
      "text/plain": [
       "<Figure size 864x720 with 1 Axes>"
      ]
     },
     "metadata": {
      "needs_background": "light"
     },
     "output_type": "display_data"
    }
   ],
   "source": [
    "for x in (combined_df[combined_df.purpose==0]['City'].value_counts())[0:10].index:\n",
    "    combined_df[combined_df.purpose==0]['Ranking'][combined_df[combined_df.purpose==0]['City'] == x].hist(bins=100)"
   ]
  },
  {
   "cell_type": "markdown",
   "metadata": {},
   "source": [
    "It is easy to confirm that the number of restaraunts afffects the ranking feature which is per city. Since there is a correlation between the ranking and rating (which is demonstrated below), it makes sensee to make a featur to capture the relationship."
   ]
  },
  {
   "cell_type": "code",
   "execution_count": 4,
   "metadata": {},
   "outputs": [],
   "source": [
    "city_min_max = combined_df.groupby('City')['Ranking'].agg([min,max])\n",
    "city_min_max = city_min_max.reset_index()"
   ]
  },
  {
   "cell_type": "code",
   "execution_count": 5,
   "metadata": {},
   "outputs": [],
   "source": [
    "# weighted rating\n",
    "def get_wr(row):\n",
    "    city_min = city_min_max[city_min_max['City'] == row.City ]['min'].iloc[0]\n",
    "    city_max = city_min_max[city_min_max['City'] == row.City ]['max'].iloc[0]\n",
    "    wr = round((row['Ranking'] - city_min)/(city_max - city_min), 3)\n",
    "    return wr\n",
    "\n",
    "combined_df['wr'] = combined_df.apply(get_wr, axis=1)"
   ]
  },
  {
   "cell_type": "markdown",
   "metadata": {},
   "source": [
    "## Cuisine Style"
   ]
  },
  {
   "cell_type": "code",
   "execution_count": 6,
   "metadata": {},
   "outputs": [
    {
     "name": "stdout",
     "output_type": "stream",
     "text": [
      "NAs #:   11590\n"
     ]
    }
   ],
   "source": [
    "print(\"NAs #:  \", combined_df['Cuisine Style'].isna().sum())\n",
    "combined_df['Cuisine Style'] = combined_df['Cuisine Style'].fillna(\"['Unknown']\")\n",
    "\n",
    "combined_df['Cuisines'] = combined_df['Cuisine Style'].str.findall(r\"'(\\b.*?\\b)'\")\n",
    "combined_df['Cuisines_Num'] = combined_df['Cuisines'].apply(lambda x: len(x))\n",
    "combined_df = pd.concat([combined_df, combined_df['Cuisines'].str.join('|').str.get_dummies()], axis=1)"
   ]
  },
  {
   "cell_type": "markdown",
   "metadata": {},
   "source": [
    "## Ranking"
   ]
  },
  {
   "cell_type": "code",
   "execution_count": 7,
   "metadata": {},
   "outputs": [
    {
     "name": "stdout",
     "output_type": "stream",
     "text": [
      "NAs #:  0\n"
     ]
    }
   ],
   "source": [
    "print(\"NAs #: \", combined_df['Ranking'].isna().sum())"
   ]
  },
  {
   "cell_type": "code",
   "execution_count": 68,
   "metadata": {},
   "outputs": [
    {
     "data": {
      "text/html": [
       "<div>\n",
       "<style scoped>\n",
       "    .dataframe tbody tr th:only-of-type {\n",
       "        vertical-align: middle;\n",
       "    }\n",
       "\n",
       "    .dataframe tbody tr th {\n",
       "        vertical-align: top;\n",
       "    }\n",
       "\n",
       "    .dataframe thead th {\n",
       "        text-align: right;\n",
       "    }\n",
       "</style>\n",
       "<table border=\"1\" class=\"dataframe\">\n",
       "  <thead>\n",
       "    <tr style=\"text-align: right;\">\n",
       "      <th></th>\n",
       "      <th>Ranking</th>\n",
       "      <th>Rating</th>\n",
       "    </tr>\n",
       "  </thead>\n",
       "  <tbody>\n",
       "    <tr>\n",
       "      <th>Ranking</th>\n",
       "      <td>1.000000</td>\n",
       "      <td>-0.368371</td>\n",
       "    </tr>\n",
       "    <tr>\n",
       "      <th>Rating</th>\n",
       "      <td>-0.368371</td>\n",
       "      <td>1.000000</td>\n",
       "    </tr>\n",
       "  </tbody>\n",
       "</table>\n",
       "</div>"
      ],
      "text/plain": [
       "          Ranking    Rating\n",
       "Ranking  1.000000 -0.368371\n",
       "Rating  -0.368371  1.000000"
      ]
     },
     "execution_count": 68,
     "metadata": {},
     "output_type": "execute_result"
    }
   ],
   "source": [
    "pd.concat([combined_df[combined_df.purpose==0]['Ranking'], y], axis=1).corr()"
   ]
  },
  {
   "cell_type": "markdown",
   "metadata": {},
   "source": [
    "Ranking is one of a few quantitative features in the provided data. It demonstrates some correlation with the target feature."
   ]
  },
  {
   "cell_type": "markdown",
   "metadata": {},
   "source": [
    "## Price Range "
   ]
  },
  {
   "cell_type": "code",
   "execution_count": 8,
   "metadata": {},
   "outputs": [
    {
     "name": "stdout",
     "output_type": "stream",
     "text": [
      "NAs #:  17361\n"
     ]
    },
    {
     "data": {
      "text/plain": [
       "$$ - $$$    23041\n",
       "$            7816\n",
       "$$$$         1782\n",
       "Name: Price Range, dtype: int64"
      ]
     },
     "execution_count": 8,
     "metadata": {},
     "output_type": "execute_result"
    }
   ],
   "source": [
    "print(\"NAs #: \", combined_df['Price Range'].isna().sum())\n",
    "\n",
    "etcombined_df['Price Range'].value_counts()"
   ]
  },
  {
   "cell_type": "markdown",
   "metadata": {},
   "source": [
    "Let's also add squeares for this field as the pricing difference can be important."
   ]
  },
  {
   "cell_type": "code",
   "execution_count": 9,
   "metadata": {},
   "outputs": [],
   "source": [
    "combined_df['Price Range'] = combined_df['Price Range'].fillna('$$ - $$$')\n",
    "\n",
    "price_range_encoding = {'$':1,'$$ - $$$':2,'$$$$':3}\n",
    "combined_df['Price_Range'] = combined_df['Price Range'].map(lambda x: price_range_encoding[x])\n",
    "combined_df['Price_Range_Squared']= combined_df['Price_Range'].map(lambda x: x*x)"
   ]
  },
  {
   "cell_type": "markdown",
   "metadata": {},
   "source": [
    "## Number of reviews"
   ]
  },
  {
   "cell_type": "code",
   "execution_count": 10,
   "metadata": {},
   "outputs": [
    {
     "name": "stdout",
     "output_type": "stream",
     "text": [
      "NAs #:  3200\n"
     ]
    }
   ],
   "source": [
    "print(\"NAs #: \", combined_df['Number of Reviews'].isna().sum())"
   ]
  },
  {
   "cell_type": "code",
   "execution_count": 11,
   "metadata": {},
   "outputs": [
    {
     "data": {
      "text/plain": [
       "count    46800.000000\n",
       "mean       124.471197\n",
       "std        294.114345\n",
       "min          2.000000\n",
       "25%          9.000000\n",
       "50%         33.000000\n",
       "75%        115.000000\n",
       "max       9660.000000\n",
       "Name: Number of Reviews, dtype: float64"
      ]
     },
     "execution_count": 11,
     "metadata": {},
     "output_type": "execute_result"
    }
   ],
   "source": [
    "combined_df['Number of Reviews'].describe()"
   ]
  },
  {
   "cell_type": "code",
   "execution_count": 12,
   "metadata": {},
   "outputs": [],
   "source": [
    "combined_df['Number of Reviews'] = combined_df['Number of Reviews'].fillna(combined_df['Number of Reviews'].median())"
   ]
  },
  {
   "cell_type": "markdown",
   "metadata": {},
   "source": [
    "## ID_TA\n",
    "\n",
    "This is a strange column. There appears to be no data in it, but the model can use it."
   ]
  },
  {
   "cell_type": "code",
   "execution_count": 13,
   "metadata": {},
   "outputs": [],
   "source": [
    "combined_df['ID_TA'] = combined_df['ID_TA'].apply(lambda x: int(x[1:]))"
   ]
  },
  {
   "cell_type": "markdown",
   "metadata": {},
   "source": [
    "# Reviews"
   ]
  },
  {
   "cell_type": "code",
   "execution_count": 14,
   "metadata": {},
   "outputs": [
    {
     "name": "stdout",
     "output_type": "stream",
     "text": [
      "NAs #:  2\n"
     ]
    }
   ],
   "source": [
    "print(\"NAs #: \", combined_df['Reviews'].isna().sum())\n",
    "\n",
    "combined_df['Reviews'] = combined_df['Reviews'].fillna(\"[[], []]\")"
   ]
  },
  {
   "cell_type": "code",
   "execution_count": 15,
   "metadata": {},
   "outputs": [
    {
     "data": {
      "text/plain": [
       "8114"
      ]
     },
     "execution_count": 15,
     "metadata": {},
     "output_type": "execute_result"
    }
   ],
   "source": [
    "# how many of empty reviews in total\n",
    "len(combined_df[combined_df.Reviews == \"[[], []]\"])"
   ]
  },
  {
   "cell_type": "code",
   "execution_count": 16,
   "metadata": {},
   "outputs": [],
   "source": [
    "def cleanup_review_data(s):\n",
    "    return s.strip(\"[]'' \")\n",
    "\n",
    "def process_review(r):\n",
    "    r = r.replace(\", nan],\", \", 'nan'],\")\n",
    "    r = r.replace(\"[nan,\", \"['nan',\")\n",
    "    \n",
    "    reviews, dates = eval(r)\n",
    "    assert len(reviews) == len(dates)\n",
    "    \n",
    "    while len(reviews) < 2:\n",
    "        reviews.append(None), dates.append(None)\n",
    "        \n",
    "    return reviews[0], reviews[1], dates[0], dates[1]\n",
    "\n",
    "combined_df['review1'], combined_df['review2'], combined_df['rdate1'], combined_df['rdate2'] = zip(*combined_df['Reviews'].map(process_review))"
   ]
  },
  {
   "cell_type": "code",
   "execution_count": 17,
   "metadata": {},
   "outputs": [],
   "source": [
    "combined_df['rdate1'], combined_df['rdate2'] = pd.to_datetime(combined_df['rdate1']), pd.to_datetime(combined_df['rdate2'])"
   ]
  },
  {
   "cell_type": "code",
   "execution_count": 18,
   "metadata": {},
   "outputs": [],
   "source": [
    "def date_to_part_of_year(r):\n",
    "    if pd.isna(r):\n",
    "        return 'Unknown'\n",
    "\n",
    "    if r.month in [12, 1, 2]:\n",
    "        return 'Winter'\n",
    "    \n",
    "    if r.month in [3,4,5]:\n",
    "        return 'Spring'\n",
    "    \n",
    "    if r.month in[6,7,8]:\n",
    "        return 'Summer'\n",
    "    \n",
    "    return 'Autumn'\n",
    "\n",
    "combined_df['rdate1_part_of_year'] = combined_df['rdate1'].map(date_to_part_of_year)\n",
    "combined_df['rdate2_part_of_year'] = combined_df['rdate2'].map(date_to_part_of_year)"
   ]
  },
  {
   "cell_type": "code",
   "execution_count": 19,
   "metadata": {},
   "outputs": [],
   "source": [
    "combined_df = pd.concat([combined_df, pd.get_dummies(combined_df['rdate1_part_of_year'], prefix='rdate1')], axis=1)\n",
    "combined_df = pd.concat([combined_df, pd.get_dummies(combined_df['rdate2_part_of_year'], prefix='rdate2')], axis=1)"
   ]
  },
  {
   "cell_type": "markdown",
   "metadata": {},
   "source": [
    "## Would text features be useful?"
   ]
  },
  {
   "cell_type": "code",
   "execution_count": 52,
   "metadata": {},
   "outputs": [],
   "source": [
    "from sklearn.feature_extraction.text import CountVectorizer, TfidfVectorizer\n",
    "\n",
    "train_review_df = combined_df[combined_df.purpose == 0][['review1', 'review2']]\n",
    "\n",
    "train_review_df['review1'] = train_review_df.review1.fillna(\"\")\n",
    "train_review_df['review2'] = train_review_df.review2.fillna(\"\")\n",
    "train_review_df['combined_reviews'] = train_review_df['review1'] + train_review_df['review2']\n",
    "\n",
    "\n",
    "cv = CountVectorizer(stop_words='english',max_features=1000)\n",
    "cv_train_features = cv.fit_transform(train_review_df.combined_reviews)\n",
    "\n",
    "tv = TfidfVectorizer(stop_words='english', sublinear_tf=True)\n",
    "tv_train_features = tv.fit_transform(train_review_df.combined_reviews)"
   ]
  },
  {
   "cell_type": "markdown",
   "metadata": {},
   "source": [
    "# Model"
   ]
  },
  {
   "cell_type": "code",
   "execution_count": 32,
   "metadata": {},
   "outputs": [],
   "source": [
    "def round_rating(x):\n",
    "    return np.round(x * 2) / 2"
   ]
  },
  {
   "cell_type": "code",
   "execution_count": 21,
   "metadata": {},
   "outputs": [],
   "source": [
    "train_df = combined_df[combined_df.purpose == 0]\n",
    "\n",
    "train_df = train_df.drop(['Restaurant_id', 'City', 'purpose', 'Cuisine Style', 'Cuisines', 'Price Range', \n",
    "                          'URL_TA', 'Reviews', 'review1', 'review2', 'rdate1', 'rdate2', \n",
    "                          'rdate1_part_of_year', 'rdate2_part_of_year'], axis=1)"
   ]
  },
  {
   "cell_type": "markdown",
   "metadata": {},
   "source": [
    "## Regular + CountVectorizer features"
   ]
  },
  {
   "cell_type": "code",
   "execution_count": 35,
   "metadata": {},
   "outputs": [
    {
     "name": "stdout",
     "output_type": "stream",
     "text": [
      "MAE: 0.17555\n"
     ]
    }
   ],
   "source": [
    "train_features_with_cv = scipy.sparse.hstack([scipy.sparse.csr_matrix(train_df.values), cv_train_features])\n",
    "X_train, X_test, y_train, y_test = train_test_split(train_features_with_cv, y, test_size=0.25)\n",
    "\n",
    "regr = RandomForestRegressor(n_estimators=100, n_jobs=-1)\n",
    "\n",
    "regr.fit(X_train, y_train)\n",
    "\n",
    "y_pred = regr.predict(X_test)\n",
    "\n",
    "y_pred = round_rating(y_pred)\n",
    "\n",
    "print('MAE:', metrics.mean_absolute_error(y_test, y_pred))"
   ]
  },
  {
   "cell_type": "code",
   "execution_count": 40,
   "metadata": {},
   "outputs": [
    {
     "data": {
      "text/plain": [
       "<matplotlib.axes._subplots.AxesSubplot at 0x7f86f0da7520>"
      ]
     },
     "execution_count": 40,
     "metadata": {},
     "output_type": "execute_result"
    },
    {
     "data": {
      "image/png": "[encoded data removed]",
      "text/plain": [
       "<Figure size 864x720 with 1 Axes>"
      ]
     },
     "metadata": {
      "needs_background": "light"
     },
     "output_type": "display_data"
    }
   ],
   "source": [
    "plt.rcParams['figure.figsize'] = (12,10)\n",
    "feat_importances = pd.Series(regr.feature_importances_)\n",
    "feat_importances.nlargest(10).plot(kind='barh')"
   ]
  },
  {
   "cell_type": "markdown",
   "metadata": {},
   "source": [
    "No CV produced features (their indexes are > 174 seem to be very important\n",
    "\n",
    "## Regular + TfidfVectorizer features"
   ]
  },
  {
   "cell_type": "code",
   "execution_count": 42,
   "metadata": {},
   "outputs": [
    {
     "name": "stdout",
     "output_type": "stream",
     "text": [
      "MAE: 0.17225\n"
     ]
    }
   ],
   "source": [
    "train_features_with_tfidf = scipy.sparse.hstack([scipy.sparse.csr_matrix(train_df.values), tv_train_features])\n",
    "X_train, X_test, y_train, y_test = train_test_split(train_features_with_tfidf, y, test_size=0.25)\n",
    "\n",
    "regr = RandomForestRegressor(n_estimators=100, n_jobs=-1)\n",
    "\n",
    "regr.fit(X_train, y_train)\n",
    "\n",
    "y_pred = regr.predict(X_test)\n",
    "\n",
    "y_pred = round_rating(y_pred)\n",
    "\n",
    "print('MAE:', metrics.mean_absolute_error(y_test, y_pred))"
   ]
  },
  {
   "cell_type": "code",
   "execution_count": 43,
   "metadata": {},
   "outputs": [
    {
     "data": {
      "text/plain": [
       "<matplotlib.axes._subplots.AxesSubplot at 0x7f86e1d984c0>"
      ]
     },
     "execution_count": 43,
     "metadata": {},
     "output_type": "execute_result"
    },
    {
     "data": {
      "image/png": "[encoded data removed]",
      "text/plain": [
       "<Figure size 864x720 with 1 Axes>"
      ]
     },
     "metadata": {
      "needs_background": "light"
     },
     "output_type": "display_data"
    }
   ],
   "source": [
    "plt.rcParams['figure.figsize'] = (12,10)\n",
    "feat_importances = pd.Series(regr.feature_importances_)\n",
    "feat_importances.nlargest(10).plot(kind='barh')"
   ]
  },
  {
   "cell_type": "markdown",
   "metadata": {},
   "source": [
    "There appears to be some improvement, although I can't say it is worth additional 25358 features produced by TF-IDF. However, potentially, a more complex model could be used (or at least the number of estimators increased)"
   ]
  },
  {
   "cell_type": "markdown",
   "metadata": {},
   "source": [
    "# Submission"
   ]
  },
  {
   "cell_type": "code",
   "execution_count": 53,
   "metadata": {},
   "outputs": [],
   "source": [
    "submit_df = combined_df[combined_df.purpose == 1]\n",
    "\n",
    "submit_review_df = submit_df[['review1', 'review2']].fillna(\"\")\n",
    "\n",
    "submit_review_df['combined_reviews'] = submit_review_df['review1'] + submit_review_df['review2']\n",
    "\n",
    "tv_submit_features = tv.transform(submit_review_df.combined_reviews)\n",
    "\n",
    "submit_df = submit_df.drop(['Restaurant_id', 'City', 'purpose', 'Cuisine Style', 'Cuisines', 'Price Range', \n",
    "                          'URL_TA', 'Reviews', 'review1', 'review2', 'rdate1', 'rdate2', \n",
    "                          'rdate1_part_of_year', 'rdate2_part_of_year'], axis=1)"
   ]
  },
  {
   "cell_type": "code",
   "execution_count": 57,
   "metadata": {},
   "outputs": [],
   "source": [
    "y_pred = regr.predict(scipy.sparse.hstack([scipy.sparse.csr_matrix(submit_df.values), tv_submit_features]))\n",
    "y_pred = round_rating(y_pred)"
   ]
  },
  {
   "cell_type": "code",
   "execution_count": 58,
   "metadata": {},
   "outputs": [],
   "source": [
    "### Leaderboard MAE: 0.17785\n",
    "sample_submission = pd.read_csv('sample_submission.csv')\n",
    "sample_submission['Rating'] = y_pred\n",
    "sample_submission.to_csv('my_submission.csv', index=False)"
   ]
  }
 ],
 "metadata": {
  "kernelspec": {
   "display_name": "Python 3",
   "language": "python",
   "name": "python3"
  },
  "language_info": {
   "codemirror_mode": {
    "name": "ipython",
    "version": 3
   },
   "file_extension": ".py",
   "mimetype": "text/x-python",
   "name": "python",
   "nbconvert_exporter": "python",
   "pygments_lexer": "ipython3",
   "version": "3.8.5"
  }
 },
 "nbformat": 4,
 "nbformat_minor": 4
}
